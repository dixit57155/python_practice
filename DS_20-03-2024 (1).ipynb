{
 "cells": [
  {
   "cell_type": "code",
   "execution_count": null,
   "id": "c28c3562-20db-496c-bb7c-3c4a3a37e6c9",
   "metadata": {},
   "outputs": [],
   "source": [
    "# 1 check if a number n is a power of two using bitwise operator\n"
   ]
  },
  {
   "cell_type": "code",
   "execution_count": 20,
   "id": "a095abbc-8f28-4889-8893-cb93e72005e2",
   "metadata": {},
   "outputs": [
    {
     "name": "stdout",
     "output_type": "stream",
     "text": [
      "True\n",
      "False\n",
      "True\n"
     ]
    }
   ],
   "source": [
    "def is_power_of_two(n):\n",
    "    return n != 0 and (n & (n - 1)) == 0\n",
    "\n",
    "print(is_power_of_two(16))  \n",
    "print(is_power_of_two(10))  \n",
    "print(is_power_of_two(64))  \n"
   ]
  },
  {
   "cell_type": "code",
   "execution_count": null,
   "id": "cff1fea1-bd4f-4d78-9c70-c363a46567b4",
   "metadata": {},
   "outputs": [],
   "source": [
    "# 2 without using the division operator  / ,divide a number n by 2"
   ]
  },
  {
   "cell_type": "code",
   "execution_count": 27,
   "id": "b87ddd63-2ec1-4da5-983e-bcb1a88124c6",
   "metadata": {},
   "outputs": [
    {
     "name": "stdout",
     "output_type": "stream",
     "text": [
      "5\n",
      "10\n",
      "50\n"
     ]
    }
   ],
   "source": [
    "def divide_by_two(n):\n",
    "    return n >> 1\n",
    "\n",
    "print(divide_by_two(10))   \n",
    "print(divide_by_two(21))   \n",
    "print(divide_by_two(100))  \n"
   ]
  },
  {
   "cell_type": "code",
   "execution_count": null,
   "id": "70fab047-10f3-46fd-ac90-a8fa274fcec1",
   "metadata": {},
   "outputs": [],
   "source": [
    "# 3 implement a bitwise XOR operation on two boolean values x and y"
   ]
  },
  {
   "cell_type": "code",
   "execution_count": 22,
   "id": "4a7b804e-c3da-4b90-bee1-25093bdfce75",
   "metadata": {},
   "outputs": [
    {
     "name": "stdout",
     "output_type": "stream",
     "text": [
      "True\n"
     ]
    }
   ],
   "source": [
    "x=True\n",
    "y=False\n",
    "z=x^y\n",
    "print(z)"
   ]
  },
  {
   "cell_type": "code",
   "execution_count": null,
   "id": "09535428-7080-4918-a4db-ec9d90c341f3",
   "metadata": {},
   "outputs": [],
   "source": [
    "# 4 using logical operator, check if a string S is non-empty and starts with an uppercase letter"
   ]
  },
  {
   "cell_type": "code",
   "execution_count": 24,
   "id": "13a578a5-4885-45d7-a03e-09267b46fda0",
   "metadata": {},
   "outputs": [
    {
     "name": "stdout",
     "output_type": "stream",
     "text": [
      "True\n",
      "False\n",
      "False\n"
     ]
    }
   ],
   "source": [
    "def check_string(S):\n",
    "    return bool(S) and S[0].isupper()\n",
    "\n",
    "print(check_string(\"Dixit\"))   \n",
    "print(check_string(\"dixit\"))    \n",
    "print(check_string(\" \"))               \n"
   ]
  },
  {
   "cell_type": "code",
   "execution_count": null,
   "id": "9b69ce71-207c-4730-a533-465a61cef78e",
   "metadata": {},
   "outputs": [],
   "source": [
    "# 5 determine if two float numbers a and b are opproximately equal (within 0.001)"
   ]
  },
  {
   "cell_type": "code",
   "execution_count": 25,
   "id": "b5d8e97b-7d7c-4881-bbd4-aee08c64fa0e",
   "metadata": {},
   "outputs": [
    {
     "name": "stdout",
     "output_type": "stream",
     "text": [
      "False\n",
      "False\n",
      "True\n"
     ]
    }
   ],
   "source": [
    "def approximately_equal(a, b, tolerance=0.001):\n",
    "    return abs(a - b) <= tolerance\n",
    "\n",
    "print(approximately_equal(1.234, 1.235))   \n",
    "print(approximately_equal(1.234, 1.237))   \n",
    "print(approximately_equal(3.14159, 3.142)) "
   ]
  },
  {
   "cell_type": "code",
   "execution_count": null,
   "id": "6f16eea9-c466-4c72-95e0-ec2ec16d9ce3",
   "metadata": {},
   "outputs": [],
   "source": [
    "# 6  swap two variables a  and b using arithmetic operators"
   ]
  },
  {
   "cell_type": "code",
   "execution_count": 26,
   "id": "89d430d7-05e3-4c76-b0e6-92c7b93ceb50",
   "metadata": {},
   "outputs": [
    {
     "name": "stdout",
     "output_type": "stream",
     "text": [
      "5 10\n"
     ]
    }
   ],
   "source": [
    "a=10\n",
    "b=5\n",
    "a=a+b\n",
    "b=a-b\n",
    "a=a-b\n",
    "print(a ,b)"
   ]
  },
  {
   "cell_type": "code",
   "execution_count": null,
   "id": "da9863e7-dd33-4479-a82f-4eb0ef5181c5",
   "metadata": {},
   "outputs": [],
   "source": [
    "# 7 reverse the bits of a 32-bit unsigned integer n"
   ]
  },
  {
   "cell_type": "code",
   "execution_count": 30,
   "id": "5a671480-6ea9-4cc1-bc3f-ff91cea89ade",
   "metadata": {},
   "outputs": [
    {
     "name": "stdout",
     "output_type": "stream",
     "text": [
      "964176192\n"
     ]
    }
   ],
   "source": [
    "def reverse_bits(n):\n",
    "    result = 0\n",
    "    for i in range(32): \n",
    "        bit = (n >> i) & 1  \n",
    "        result |= bit << (31 - i)  \n",
    "    return result\n",
    "\n",
    "\n",
    "print(reverse_bits(0b00000010100101000001111010011100))  \n",
    "\n"
   ]
  },
  {
   "cell_type": "code",
   "execution_count": null,
   "id": "9dfc8617-407e-4333-91af-64b1bd6db73a",
   "metadata": {},
   "outputs": [],
   "source": [
    "# 8 using bitwise operators , determines if an integer  n  is odd"
   ]
  },
  {
   "cell_type": "code",
   "execution_count": 31,
   "id": "dad686e6-d1c7-49d4-bf99-b05f61783981",
   "metadata": {},
   "outputs": [
    {
     "name": "stdout",
     "output_type": "stream",
     "text": [
      "True\n",
      "False\n",
      "False\n",
      "True\n"
     ]
    }
   ],
   "source": [
    "def is_odd(n):\n",
    "    return n & 1 == 1\n",
    "\n",
    "print(is_odd(5))   \n",
    "print(is_odd(10))  \n",
    "print(is_odd(0))   \n",
    "print(is_odd(-7))  \n"
   ]
  },
  {
   "cell_type": "code",
   "execution_count": null,
   "id": "dacd73e3-c98b-4b16-a64c-e96381f5ea39",
   "metadata": {},
   "outputs": [],
   "source": [
    "# 9 check if a number n is within 10 units of 100 using a single expression"
   ]
  },
  {
   "cell_type": "code",
   "execution_count": 2,
   "id": "30cc495b-66b9-476a-b999-8fdc3a73818f",
   "metadata": {},
   "outputs": [
    {
     "name": "stdout",
     "output_type": "stream",
     "text": [
      "90 is within 10 units of 100: True\n",
      "95 is within 10 units of 100: True\n",
      "99 is within 10 units of 100: True\n",
      "100 is within 10 units of 100: True\n",
      "105 is within 10 units of 100: True\n",
      "110 is within 10 units of 100: True\n"
     ]
    }
   ],
   "source": [
    "def is_within_10_units_of_100(n):\n",
    "    return abs(n - 100) <= 10\n",
    "\n",
    "test_numbers = [90, 95, 99, 100, 105, 110]\n",
    "for num in test_numbers:\n",
    "    print(f\"{num} is within 10 units of 100:\", is_within_10_units_of_100(num))\n",
    "\n"
   ]
  },
  {
   "cell_type": "code",
   "execution_count": null,
   "id": "86b29766-698b-4669-a047-0bdc0a4c284a",
   "metadata": {},
   "outputs": [],
   "source": [
    "# 10 without using ** , calculate the cube of a number"
   ]
  },
  {
   "cell_type": "code",
   "execution_count": 3,
   "id": "cce7920c-3051-4afa-a705-7456ab40645c",
   "metadata": {},
   "outputs": [
    {
     "name": "stdout",
     "output_type": "stream",
     "text": [
      "8\n"
     ]
    }
   ],
   "source": [
    "a=2\n",
    "b=a*a*a\n",
    "print(b)"
   ]
  },
  {
   "cell_type": "code",
   "execution_count": null,
   "id": "16079242-7e2a-4dde-a23f-db3b610e5b6a",
   "metadata": {},
   "outputs": [],
   "source": [
    "# 11 calculate the remainder of 1234 divided by 100 without using the % operator"
   ]
  },
  {
   "cell_type": "code",
   "execution_count": 4,
   "id": "7fe4650c-6b65-4101-a78e-7a2adefd1f59",
   "metadata": {},
   "outputs": [
    {
     "name": "stdout",
     "output_type": "stream",
     "text": [
      "Remainder of 1234 divided by 100: 34\n"
     ]
    }
   ],
   "source": [
    "remainder = divmod(1234, 100)[1]\n",
    "print(\"Remainder of 1234 divided by 100:\", remainder)\n"
   ]
  },
  {
   "cell_type": "code",
   "execution_count": 5,
   "id": "bec0e926-339a-4a5f-a86f-0d74dafbb026",
   "metadata": {},
   "outputs": [
    {
     "name": "stdout",
     "output_type": "stream",
     "text": [
      "Remainder of 1234 divided by 100: 34\n"
     ]
    }
   ],
   "source": [
    "dividend = 1234\n",
    "divisor = 100\n",
    "\n",
    "while dividend >= divisor:\n",
    "    dividend -= divisor\n",
    "\n",
    "remainder = dividend\n",
    "print(\"Remainder of 1234 divided by 100:\", remainder)\n"
   ]
  },
  {
   "cell_type": "code",
   "execution_count": null,
   "id": "e682335e-831d-489f-9dcc-7064695f62e2",
   "metadata": {},
   "outputs": [],
   "source": [
    "# 12 reverse the bits of an 8-bit binary number 0b11010100"
   ]
  },
  {
   "cell_type": "code",
   "execution_count": 6,
   "id": "85448cc5-aa3d-4670-9399-c2b9f0199cf5",
   "metadata": {},
   "outputs": [
    {
     "name": "stdout",
     "output_type": "stream",
     "text": [
      "Original binary number: 0b11010100\n",
      "Reversed binary number: 0b101011\n"
     ]
    }
   ],
   "source": [
    "# Original binary number\n",
    "binary_number = 0b11010100\n",
    "\n",
    "\n",
    "reversed_binary = int(bin(binary_number)[:1:-1], 2)\n",
    "\n",
    "print(\"Original binary number:\", bin(binary_number))\n",
    "print(\"Reversed binary number:\", bin(reversed_binary))\n"
   ]
  },
  {
   "cell_type": "code",
   "execution_count": null,
   "id": "2094eaf2-7a20-424b-96cf-980cc99f016f",
   "metadata": {},
   "outputs": [],
   "source": [
    "# 13 check if two number a=4 and b=9 have opposite sighns using bitwise operator"
   ]
  },
  {
   "cell_type": "code",
   "execution_count": 7,
   "id": "f112c169-4995-4d09-921c-289fc7cbcb22",
   "metadata": {},
   "outputs": [
    {
     "name": "stdout",
     "output_type": "stream",
     "text": [
      "Do a and b have opposite signs? False\n"
     ]
    }
   ],
   "source": [
    "a = 4\n",
    "b = 9\n",
    "\n",
    "have_opposite_signs = (a ^ b) < 0\n",
    "\n",
    "print(\"Do a and b have opposite signs?\", have_opposite_signs)\n"
   ]
  },
  {
   "cell_type": "code",
   "execution_count": null,
   "id": "7935f795-d3ad-45cb-a93c-9ed1bbdf6960",
   "metadata": {},
   "outputs": [],
   "source": [
    "# 14 swap two integer a=3 and b=5 without using extra space"
   ]
  },
  {
   "cell_type": "code",
   "execution_count": 8,
   "id": "2b11c714-7b8e-40da-8d57-dff17acf0ae1",
   "metadata": {},
   "outputs": [
    {
     "name": "stdout",
     "output_type": "stream",
     "text": [
      "After swapping:\n",
      "a = 5\n",
      "b = 3\n"
     ]
    }
   ],
   "source": [
    "a = 3\n",
    "b = 5\n",
    "\n",
    "a = a ^ b\n",
    "b = a ^ b\n",
    "a = a ^ b\n",
    "\n",
    "print(\"After swapping:\")\n",
    "print(\"a =\", a)\n",
    "print(\"b =\", b)\n"
   ]
  },
  {
   "cell_type": "code",
   "execution_count": null,
   "id": "e88a53ad-d02c-4704-8052-0c4ec7b5deab",
   "metadata": {},
   "outputs": [],
   "source": [
    "# 15 determine if an integer n is a power of two without using loop or recursion"
   ]
  },
  {
   "cell_type": "code",
   "execution_count": 9,
   "id": "dee57b05-a124-4d8f-81f6-75767aad8b70",
   "metadata": {},
   "outputs": [
    {
     "name": "stdout",
     "output_type": "stream",
     "text": [
      "True\n",
      "True\n",
      "True\n",
      "False\n"
     ]
    }
   ],
   "source": [
    "def is_power_of_two(n):\n",
    "    return n != 0 and (n & (n - 1)) == 0\n",
    "\n",
    "print(is_power_of_two(1))   \n",
    "print(is_power_of_two(2))   \n",
    "print(is_power_of_two(4))   \n",
    "print(is_power_of_two(10))  \n"
   ]
  },
  {
   "cell_type": "code",
   "execution_count": null,
   "id": "b0bccb98-905e-46e8-9944-7b53f30e3211",
   "metadata": {},
   "outputs": [],
   "source": [
    "# 16 implement a basic version of the XOR operation using only AND ,OR and NOT operators"
   ]
  },
  {
   "cell_type": "code",
   "execution_count": 11,
   "id": "5409ebb0-cfaa-45f4-b6c0-c754d286b1a0",
   "metadata": {},
   "outputs": [
    {
     "name": "stdout",
     "output_type": "stream",
     "text": [
      "0\n",
      "1\n"
     ]
    }
   ],
   "source": [
    "def basic_xor(a, b):\n",
    "    return (a | b) & ~(a & b)\n",
    "\n",
    "print(basic_xor(0, 0))  \n",
    "print(basic_xor(0, 1))  \n"
   ]
  },
  {
   "cell_type": "code",
   "execution_count": null,
   "id": "5b45e677-ad63-4b70-93a8-f37f3734495f",
   "metadata": {},
   "outputs": [],
   "source": [
    "# 17 without running , determine the output of True *2 + False // 3"
   ]
  },
  {
   "cell_type": "code",
   "execution_count": 12,
   "id": "c3573425-d675-4feb-b92d-256b267585f8",
   "metadata": {},
   "outputs": [
    {
     "name": "stdout",
     "output_type": "stream",
     "text": [
      "2\n"
     ]
    }
   ],
   "source": [
    "result = True * 2 + False // 3\n",
    "print(result)\n"
   ]
  },
  {
   "cell_type": "code",
   "execution_count": null,
   "id": "1c34aee9-c716-4c8f-bc58-d0388d8929e7",
   "metadata": {},
   "outputs": [],
   "source": [
    "# 18 rotate the bits of the number 0b10110011 two positions to the left"
   ]
  },
  {
   "cell_type": "code",
   "execution_count": 13,
   "id": "fb93ae6f-c598-4b39-b409-39cfb50f7cdc",
   "metadata": {},
   "outputs": [
    {
     "name": "stdout",
     "output_type": "stream",
     "text": [
      "Original number: 0b10110011\n",
      "Rotated number: 0b1011001110\n"
     ]
    }
   ],
   "source": [
    "\n",
    "number = 0b10110011\n",
    "\n",
    "rotated_number = (number << 2) | (number >> (8 - 2)\n",
    "\n",
    "print(\"Original number:\", bin(number))\n",
    "print(\"Rotated number:\", bin(rotated_number))\n"
   ]
  },
  {
   "cell_type": "code",
   "execution_count": null,
   "id": "6c89d1dd-f724-41d8-ac4f-eb5c2e2f0df3",
   "metadata": {},
   "outputs": [],
   "source": [
    "# 19 calculate the expression 3**2//2*3/3-1 and explain the order of operation"
   ]
  },
  {
   "cell_type": "code",
   "execution_count": 14,
   "id": "7608542a-73f5-43cd-ac3f-9014a09c2b86",
   "metadata": {},
   "outputs": [
    {
     "name": "stdout",
     "output_type": "stream",
     "text": [
      "3.0\n"
     ]
    }
   ],
   "source": [
    "result = 3**2 // 2 * 3 / 3 - 1\n",
    "print(result)\n"
   ]
  },
  {
   "cell_type": "code",
   "execution_count": null,
   "id": "94eb9bdd-4d1b-4077-87e1-e55a61131cdb",
   "metadata": {},
   "outputs": [],
   "source": [
    "# 20 determine if the expression not (a<b) and not (a>b) is equivalent to a==b for any a and b"
   ]
  },
  {
   "cell_type": "code",
   "execution_count": 15,
   "id": "3c14e510-912d-4ab2-bd1f-838b4ef8c08d",
   "metadata": {},
   "outputs": [
    {
     "name": "stdout",
     "output_type": "stream",
     "text": [
      "True\n",
      "True\n",
      "True\n",
      "True\n"
     ]
    }
   ],
   "source": [
    "def equivalence_check(a, b):\n",
    "    expression1 = not (a < b) and not (a > b)\n",
    "    expression2 = a == b\n",
    "    return expression1 == expression2\n",
    "\n",
    "\n",
    "print(equivalence_check(2, 2))  \n",
    "print(equivalence_check(2, 3))  \n",
    "print(equivalence_check(3, 2))  \n",
    "print(equivalence_check(3, 3))  \n"
   ]
  },
  {
   "cell_type": "code",
   "execution_count": null,
   "id": "e015b7c0-90eb-4901-aa25-bc3d15fd3d9e",
   "metadata": {},
   "outputs": [],
   "source": []
  }
 ],
 "metadata": {
  "kernelspec": {
   "display_name": "Python 3 (ipykernel)",
   "language": "python",
   "name": "python3"
  },
  "language_info": {
   "codemirror_mode": {
    "name": "ipython",
    "version": 3
   },
   "file_extension": ".py",
   "mimetype": "text/x-python",
   "name": "python",
   "nbconvert_exporter": "python",
   "pygments_lexer": "ipython3",
   "version": "3.11.5"
  }
 },
 "nbformat": 4,
 "nbformat_minor": 5
}
